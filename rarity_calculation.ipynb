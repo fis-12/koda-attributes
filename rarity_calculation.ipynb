{
 "cells": [
  {
   "cell_type": "code",
   "execution_count": 84,
   "metadata": {},
   "outputs": [],
   "source": [
    "import json\n",
    "import pandas as pd"
   ]
  },
  {
   "cell_type": "code",
   "execution_count": 85,
   "metadata": {},
   "outputs": [
    {
     "name": "stdout",
     "output_type": "stream",
     "text": [
      "9588\n"
     ]
    }
   ],
   "source": [
    "df = pd.read_csv('data/kodas.csv')\n",
    "\n",
    "print (len(df))"
   ]
  },
  {
   "cell_type": "code",
   "execution_count": 86,
   "metadata": {},
   "outputs": [],
   "source": [
    "attribute_dict = {}\n",
    "\n",
    "for i, row in df.iterrows():\n",
    "    \n",
    "    for trait_type in df.columns[2:]:\n",
    "\n",
    "        trait_value = row[trait_type]\n",
    "\n",
    "        if trait_type not in attribute_dict:\n",
    "            attribute_dict[trait_type] = {}\n",
    "        \n",
    "        if trait_value not in attribute_dict[trait_type]:\n",
    "            attribute_dict[trait_type][trait_value] = 1\n",
    "        else:\n",
    "            attribute_dict[trait_type][trait_value] += 1\n",
    "\n",
    "with open('data/kodas_attribute_count.json', 'w') as f:\n",
    "    json.dump(attribute_dict, f)            \n",
    "    "
   ]
  },
  {
   "cell_type": "code",
   "execution_count": 87,
   "metadata": {},
   "outputs": [
    {
     "data": {
      "text/html": [
       "<div>\n",
       "<style scoped>\n",
       "    .dataframe tbody tr th:only-of-type {\n",
       "        vertical-align: middle;\n",
       "    }\n",
       "\n",
       "    .dataframe tbody tr th {\n",
       "        vertical-align: top;\n",
       "    }\n",
       "\n",
       "    .dataframe thead th {\n",
       "        text-align: right;\n",
       "    }\n",
       "</style>\n",
       "<table border=\"1\" class=\"dataframe\">\n",
       "  <thead>\n",
       "    <tr style=\"text-align: right;\">\n",
       "      <th></th>\n",
       "      <th>token_id</th>\n",
       "      <th>image</th>\n",
       "      <th>head</th>\n",
       "      <th>eyes</th>\n",
       "      <th>core</th>\n",
       "      <th>clothing</th>\n",
       "      <th>weapon</th>\n",
       "    </tr>\n",
       "  </thead>\n",
       "  <tbody>\n",
       "    <tr>\n",
       "      <th>count</th>\n",
       "      <td>9588</td>\n",
       "      <td>9588</td>\n",
       "      <td>9588</td>\n",
       "      <td>9588</td>\n",
       "      <td>9588</td>\n",
       "      <td>9588</td>\n",
       "      <td>9588</td>\n",
       "    </tr>\n",
       "    <tr>\n",
       "      <th>unique</th>\n",
       "      <td>1</td>\n",
       "      <td>1</td>\n",
       "      <td>1</td>\n",
       "      <td>1</td>\n",
       "      <td>1</td>\n",
       "      <td>2</td>\n",
       "      <td>2</td>\n",
       "    </tr>\n",
       "    <tr>\n",
       "      <th>top</th>\n",
       "      <td>False</td>\n",
       "      <td>False</td>\n",
       "      <td>False</td>\n",
       "      <td>False</td>\n",
       "      <td>False</td>\n",
       "      <td>False</td>\n",
       "      <td>True</td>\n",
       "    </tr>\n",
       "    <tr>\n",
       "      <th>freq</th>\n",
       "      <td>9588</td>\n",
       "      <td>9588</td>\n",
       "      <td>9588</td>\n",
       "      <td>9588</td>\n",
       "      <td>9588</td>\n",
       "      <td>6766</td>\n",
       "      <td>6558</td>\n",
       "    </tr>\n",
       "  </tbody>\n",
       "</table>\n",
       "</div>"
      ],
      "text/plain": [
       "       token_id  image   head   eyes   core clothing weapon\n",
       "count      9588   9588   9588   9588   9588     9588   9588\n",
       "unique        1      1      1      1      1        2      2\n",
       "top       False  False  False  False  False    False   True\n",
       "freq       9588   9588   9588   9588   9588     6766   6558"
      ]
     },
     "execution_count": 87,
     "metadata": {},
     "output_type": "execute_result"
    }
   ],
   "source": [
    "df.isnull().describe()"
   ]
  },
  {
   "cell_type": "code",
   "execution_count": 88,
   "metadata": {},
   "outputs": [
    {
     "data": {
      "text/plain": [
       "9588"
      ]
     },
     "execution_count": 88,
     "metadata": {},
     "output_type": "execute_result"
    }
   ],
   "source": [
    "df.shape[0]"
   ]
  },
  {
   "cell_type": "code",
   "execution_count": 89,
   "metadata": {},
   "outputs": [
    {
     "name": "stdout",
     "output_type": "stream",
     "text": [
      "head 1.0\n",
      "eyes 1.0\n",
      "core 1.0\n",
      "clothing 0.7056737588652482\n",
      "weapon 0.6839799749687109\n"
     ]
    }
   ],
   "source": [
    "for trait_type in attribute_dict.keys():\n",
    "\n",
    "    trait_null_count = df[trait_type].isnull().describe().freq / df.shape[0]\n",
    "    print (trait_type, trait_null_count)\n",
    "\n",
    "    df['{}_count'.format(trait_type)]  = [trait_null_count if pd.isnull(x) else attribute_dict[trait_type][x] for x in df[trait_type]]   \n",
    "    df['{}_rarity'.format(trait_type)] = [trait_null_count / df.shape[0]if pd.isnull(x) else attribute_dict[trait_type][x] / df.shape[0] for x in df[trait_type]]    "
   ]
  },
  {
   "cell_type": "code",
   "execution_count": 90,
   "metadata": {},
   "outputs": [],
   "source": [
    "df['rarity'] = df['head_rarity'] * df['eyes_rarity'] * df['core_rarity'] * df['clothing_rarity'] * df['weapon_rarity']"
   ]
  },
  {
   "cell_type": "code",
   "execution_count": 91,
   "metadata": {},
   "outputs": [],
   "source": [
    "df['rarity_score'] = [df.query('rarity < {}'.format(x)).count()[0] for x in df['rarity']]"
   ]
  },
  {
   "cell_type": "code",
   "execution_count": 92,
   "metadata": {},
   "outputs": [
    {
     "data": {
      "text/html": [
       "<div>\n",
       "<style scoped>\n",
       "    .dataframe tbody tr th:only-of-type {\n",
       "        vertical-align: middle;\n",
       "    }\n",
       "\n",
       "    .dataframe tbody tr th {\n",
       "        vertical-align: top;\n",
       "    }\n",
       "\n",
       "    .dataframe thead th {\n",
       "        text-align: right;\n",
       "    }\n",
       "</style>\n",
       "<table border=\"1\" class=\"dataframe\">\n",
       "  <thead>\n",
       "    <tr style=\"text-align: right;\">\n",
       "      <th></th>\n",
       "      <th>token_id</th>\n",
       "      <th>image</th>\n",
       "      <th>head</th>\n",
       "      <th>eyes</th>\n",
       "      <th>core</th>\n",
       "      <th>clothing</th>\n",
       "      <th>weapon</th>\n",
       "      <th>head_count</th>\n",
       "      <th>head_rarity</th>\n",
       "      <th>eyes_count</th>\n",
       "      <th>eyes_rarity</th>\n",
       "      <th>core_count</th>\n",
       "      <th>core_rarity</th>\n",
       "      <th>clothing_count</th>\n",
       "      <th>clothing_rarity</th>\n",
       "      <th>weapon_count</th>\n",
       "      <th>weapon_rarity</th>\n",
       "      <th>rarity</th>\n",
       "      <th>rarity_score</th>\n",
       "    </tr>\n",
       "  </thead>\n",
       "  <tbody>\n",
       "    <tr>\n",
       "      <th>9546</th>\n",
       "      <td>9996</td>\n",
       "      <td>https://assets.otherside.xyz/kodas/059b92470fd...</td>\n",
       "      <td>Cyber Mind</td>\n",
       "      <td>Coiled Up</td>\n",
       "      <td>Dyna Volt</td>\n",
       "      <td>Chaos Gunner</td>\n",
       "      <td>Cosmic Hammer</td>\n",
       "      <td>1</td>\n",
       "      <td>0.000104</td>\n",
       "      <td>1</td>\n",
       "      <td>0.000104</td>\n",
       "      <td>1</td>\n",
       "      <td>0.000104</td>\n",
       "      <td>1.000000</td>\n",
       "      <td>0.000104</td>\n",
       "      <td>1.0</td>\n",
       "      <td>0.000104</td>\n",
       "      <td>1.234127e-20</td>\n",
       "      <td>0</td>\n",
       "    </tr>\n",
       "    <tr>\n",
       "      <th>9545</th>\n",
       "      <td>9995</td>\n",
       "      <td>https://assets.otherside.xyz/kodas/511a0bc2bdf...</td>\n",
       "      <td>Mech Mouse</td>\n",
       "      <td>Galactic Gaze</td>\n",
       "      <td>Static Enigma</td>\n",
       "      <td>Chaos Soldier</td>\n",
       "      <td>Truestrike</td>\n",
       "      <td>1</td>\n",
       "      <td>0.000104</td>\n",
       "      <td>1</td>\n",
       "      <td>0.000104</td>\n",
       "      <td>1</td>\n",
       "      <td>0.000104</td>\n",
       "      <td>1.000000</td>\n",
       "      <td>0.000104</td>\n",
       "      <td>1.0</td>\n",
       "      <td>0.000104</td>\n",
       "      <td>1.234127e-20</td>\n",
       "      <td>0</td>\n",
       "    </tr>\n",
       "    <tr>\n",
       "      <th>9544</th>\n",
       "      <td>9994</td>\n",
       "      <td>https://assets.otherside.xyz/kodas/a5caa4c5eb3...</td>\n",
       "      <td>Tazor</td>\n",
       "      <td>Light Visor</td>\n",
       "      <td>Kilowatt</td>\n",
       "      <td>Chaos Avenger</td>\n",
       "      <td>Coils of Vengeance</td>\n",
       "      <td>1</td>\n",
       "      <td>0.000104</td>\n",
       "      <td>1</td>\n",
       "      <td>0.000104</td>\n",
       "      <td>1</td>\n",
       "      <td>0.000104</td>\n",
       "      <td>1.000000</td>\n",
       "      <td>0.000104</td>\n",
       "      <td>1.0</td>\n",
       "      <td>0.000104</td>\n",
       "      <td>1.234127e-20</td>\n",
       "      <td>0</td>\n",
       "    </tr>\n",
       "    <tr>\n",
       "      <th>9491</th>\n",
       "      <td>9938</td>\n",
       "      <td>https://assets.otherside.xyz/kodas/34322ce6b43...</td>\n",
       "      <td>Turitella Dome</td>\n",
       "      <td>Aquatic Ogle</td>\n",
       "      <td>Gilly Guts</td>\n",
       "      <td>NaN</td>\n",
       "      <td>Urchin Flail</td>\n",
       "      <td>1</td>\n",
       "      <td>0.000104</td>\n",
       "      <td>21</td>\n",
       "      <td>0.002190</td>\n",
       "      <td>1</td>\n",
       "      <td>0.000104</td>\n",
       "      <td>0.705674</td>\n",
       "      <td>0.000074</td>\n",
       "      <td>18.0</td>\n",
       "      <td>0.001877</td>\n",
       "      <td>3.291968e-18</td>\n",
       "      <td>3</td>\n",
       "    </tr>\n",
       "    <tr>\n",
       "      <th>9466</th>\n",
       "      <td>9912</td>\n",
       "      <td>https://assets.otherside.xyz/kodas/1c2fb82e20b...</td>\n",
       "      <td>Hot Head</td>\n",
       "      <td>Interconnected Flow</td>\n",
       "      <td>Bellystone</td>\n",
       "      <td>Flame Licked Armor</td>\n",
       "      <td>Sulfur Striker</td>\n",
       "      <td>1</td>\n",
       "      <td>0.000104</td>\n",
       "      <td>23</td>\n",
       "      <td>0.002399</td>\n",
       "      <td>1</td>\n",
       "      <td>0.000104</td>\n",
       "      <td>18.000000</td>\n",
       "      <td>0.001877</td>\n",
       "      <td>3.0</td>\n",
       "      <td>0.000313</td>\n",
       "      <td>1.532786e-17</td>\n",
       "      <td>4</td>\n",
       "    </tr>\n",
       "  </tbody>\n",
       "</table>\n",
       "</div>"
      ],
      "text/plain": [
       "      token_id                                              image  \\\n",
       "9546      9996  https://assets.otherside.xyz/kodas/059b92470fd...   \n",
       "9545      9995  https://assets.otherside.xyz/kodas/511a0bc2bdf...   \n",
       "9544      9994  https://assets.otherside.xyz/kodas/a5caa4c5eb3...   \n",
       "9491      9938  https://assets.otherside.xyz/kodas/34322ce6b43...   \n",
       "9466      9912  https://assets.otherside.xyz/kodas/1c2fb82e20b...   \n",
       "\n",
       "                head                 eyes           core            clothing  \\\n",
       "9546      Cyber Mind            Coiled Up      Dyna Volt        Chaos Gunner   \n",
       "9545      Mech Mouse        Galactic Gaze  Static Enigma       Chaos Soldier   \n",
       "9544           Tazor          Light Visor       Kilowatt       Chaos Avenger   \n",
       "9491  Turitella Dome         Aquatic Ogle     Gilly Guts                 NaN   \n",
       "9466        Hot Head  Interconnected Flow     Bellystone  Flame Licked Armor   \n",
       "\n",
       "                  weapon  head_count  head_rarity  eyes_count  eyes_rarity  \\\n",
       "9546       Cosmic Hammer           1     0.000104           1     0.000104   \n",
       "9545          Truestrike           1     0.000104           1     0.000104   \n",
       "9544  Coils of Vengeance           1     0.000104           1     0.000104   \n",
       "9491        Urchin Flail           1     0.000104          21     0.002190   \n",
       "9466      Sulfur Striker           1     0.000104          23     0.002399   \n",
       "\n",
       "      core_count  core_rarity  clothing_count  clothing_rarity  weapon_count  \\\n",
       "9546           1     0.000104        1.000000         0.000104           1.0   \n",
       "9545           1     0.000104        1.000000         0.000104           1.0   \n",
       "9544           1     0.000104        1.000000         0.000104           1.0   \n",
       "9491           1     0.000104        0.705674         0.000074          18.0   \n",
       "9466           1     0.000104       18.000000         0.001877           3.0   \n",
       "\n",
       "      weapon_rarity        rarity  rarity_score  \n",
       "9546       0.000104  1.234127e-20             0  \n",
       "9545       0.000104  1.234127e-20             0  \n",
       "9544       0.000104  1.234127e-20             0  \n",
       "9491       0.001877  3.291968e-18             3  \n",
       "9466       0.000313  1.532786e-17             4  "
      ]
     },
     "execution_count": 92,
     "metadata": {},
     "output_type": "execute_result"
    }
   ],
   "source": [
    "df.sort_values('rarity', ascending=True).head()"
   ]
  },
  {
   "cell_type": "code",
   "execution_count": 93,
   "metadata": {},
   "outputs": [],
   "source": [
    "df.to_csv('data/kodas_with_rarity.csv', index=False)"
   ]
  }
 ],
 "metadata": {
  "interpreter": {
   "hash": "31f2aee4e71d21fbe5cf8b01ff0e069b9275f58929596ceb00d14d90e3e16cd6"
  },
  "kernelspec": {
   "display_name": "Python 3.8.9 64-bit",
   "language": "python",
   "name": "python3"
  },
  "language_info": {
   "codemirror_mode": {
    "name": "ipython",
    "version": 3
   },
   "file_extension": ".py",
   "mimetype": "text/x-python",
   "name": "python",
   "nbconvert_exporter": "python",
   "pygments_lexer": "ipython3",
   "version": "3.8.9"
  },
  "orig_nbformat": 4
 },
 "nbformat": 4,
 "nbformat_minor": 2
}
